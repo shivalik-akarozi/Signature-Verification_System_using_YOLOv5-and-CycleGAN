{
 "cells": [
  {
   "cell_type": "markdown",
   "metadata": {},
   "source": [
    "[Kaggle Signature Dataset](https://www.kaggle.com/robinreni/signature-verification-dataset)"
   ]
  },
  {
   "cell_type": "markdown",
   "metadata": {},
   "source": [
    "# Code for generating noisy signature images"
   ]
  },
  {
   "cell_type": "code",
   "execution_count": null,
   "metadata": {},
   "outputs": [],
   "source": [
    "import cv2\n",
    "import numpy as np\n",
    "def add_random_straight_lines(image,height, width):\n",
    "    ''' Add random straight lines to the image '''\n",
    "    num_lines = np.random.randint(1, 5) # number of lines to be added\n",
    "    y0 = int(height/num_lines) # gap/width between each lines\n",
    "    for i in range(num_lines):\n",
    "        line_thickness = np.random.randint(1, 5)\n",
    "        x1, x2 = 0, width # starting and ending x coordinates\n",
    "        y = y0*(i+1) + np.random.randint(-0.05*height, 0.05*height) # y coordinate of line\n",
    "        image = cv2.line(image, (x1, y), (x2, y), (0, 0, 0), thickness=line_thickness) #draw line\n",
    "        prev_y = y\n",
    "    return image"
   ]
  },
  {
   "cell_type": "code",
   "execution_count": null,
   "metadata": {},
   "outputs": [],
   "source": [
    "def add_random_text(image, height, width):\n",
    "    ''' Add random texts to the image '''\n",
    "    closings = ['Sincerly', 'Regards', 'Yours truly', 'Best regards', 'Cordially']\n",
    "    bottom_text = ['Amal Joseph', 'Steve Jobs', 'Larry Page', 'Paul Walker', 'Raja Ravi Varma', 'Katie Bouman', 'Ada Loveless']\n",
    "\n",
    "    font = [cv2.FONT_HERSHEY_DUPLEX, cv2.FONT_HERSHEY_COMPLEX, cv2.FONT_HERSHEY_TRIPLEX, cv2.FONT_HERSHEY_COMPLEX_SMALL]\n",
    "    y = np.random.randint(0.75*height, 1.02*height)\n",
    "    x = np.random.randint(0.0005*width, 0.3*width)\n",
    "    fontScale = np.random.random() + 0.7\n",
    "    thickness = np.random.randint(1, 3)\n",
    "    image = cv2.putText(image, np.random.choice(bottom_text), (x, y), np.random.choice(font), fontScale, (0, 0, 0), thickness, cv2.LINE_AA)\n",
    "    return image\n"
   ]
  },
  {
   "cell_type": "code",
   "execution_count": 3,
   "metadata": {},
   "outputs": [],
   "source": [
    "def process_image(image_path):    \n",
    "    ''' Add random straight lines and texts to the image '''\n",
    "    image = cv2.imread(image_path)\n",
    "    height, weight, _ = image.shape\n",
    "    image = add_random_text(image, height, width)\n",
    "    image = add_random_straight_lines(image, height, width)\n",
    "    return image"
   ]
  },
  {
   "cell_type": "code",
   "execution_count": 5,
   "metadata": {},
   "outputs": [
    {
     "ename": "AttributeError",
     "evalue": "'NoneType' object has no attribute 'shape'",
     "output_type": "error",
     "traceback": [
      "\u001b[1;31m---------------------------------------------------------------------------\u001b[0m",
      "\u001b[1;31mAttributeError\u001b[0m                            Traceback (most recent call last)",
      "Cell \u001b[1;32mIn[5], line 11\u001b[0m\n\u001b[0;32m      9\u001b[0m     image \u001b[39m=\u001b[39m add_random_straight_lines(image, height, width)\n\u001b[0;32m     10\u001b[0m     \u001b[39mreturn\u001b[39;00m image\n\u001b[1;32m---> 11\u001b[0m image \u001b[39m=\u001b[39m process_image(\u001b[39m'\u001b[39;49m\u001b[39mmedia/documents/1.png\u001b[39;49m\u001b[39m'\u001b[39;49m)\n\u001b[0;32m     12\u001b[0m image \u001b[39m=\u001b[39m cv2\u001b[39m.\u001b[39mimread(imagepath)\n\u001b[0;32m     13\u001b[0m height, width, _ \u001b[39m=\u001b[39m image\u001b[39m.\u001b[39mshape\n",
      "Cell \u001b[1;32mIn[5], line 7\u001b[0m, in \u001b[0;36mprocess_image\u001b[1;34m(image_path)\u001b[0m\n\u001b[0;32m      5\u001b[0m \u001b[39m''' Add random straight lines and texts to the image '''\u001b[39;00m\n\u001b[0;32m      6\u001b[0m image \u001b[39m=\u001b[39m cv2\u001b[39m.\u001b[39mimread(image_path)\n\u001b[1;32m----> 7\u001b[0m height, weight, _ \u001b[39m=\u001b[39m image\u001b[39m.\u001b[39;49mshape\n\u001b[0;32m      8\u001b[0m image \u001b[39m=\u001b[39m add_random_text(image, height, width)\n\u001b[0;32m      9\u001b[0m image \u001b[39m=\u001b[39m add_random_straight_lines(image, height, width)\n",
      "\u001b[1;31mAttributeError\u001b[0m: 'NoneType' object has no attribute 'shape'"
     ]
    }
   ],
   "source": [
    "# usage example\n",
    "import glob\n",
    "import cv2\n",
    "\n",
    "image = process_image('media/documents/1.png')\n",
    "image = cv2.imread(imagepath)\n",
    "height, width, _ = image.shape\n",
    "image = process_image(image, height, width)\n",
    "plt.imshow(image)"
   ]
  },
  {
   "cell_type": "markdown",
   "metadata": {},
   "source": [
    "# Convert Dataset to CycleGAN Folder Structure  \n",
    "CycleGAN perform image (domainA) to image (domainB) translation. Train and test images of domainA (clean signatures) must be stored in folders trainA and testA respectively. Similarily, the images in domainB (noisy) should be stored in trainB and testB  \n",
    "  \n",
    "Note: I moved all the signatures (from all the subfolders in train and test directory) in Kaggle dataset into one single directory, and the following operations are performed on the resultant folder which contains all the signatures.  \n",
    "Used only the real signatures from the dataset."
   ]
  },
  {
   "cell_type": "code",
   "execution_count": null,
   "metadata": {},
   "outputs": [],
   "source": [
    "# move images from sub directories to another folder\n",
    "root_path = 'gan_signdata_kaggle/images/'\n",
    "\n",
    "for root, dirs, files in os.walk(root_path):\n",
    "    for filename in files:\n",
    "        shutil.move(os.path.join(root, filename), 'gan-sign_data_kaggle/A/')"
   ]
  },
  {
   "cell_type": "code",
   "execution_count": null,
   "metadata": {},
   "outputs": [],
   "source": [
    "# apply image augumentations and save them\n",
    "root_path = 'gan-sign_data_kaggle/images/'\n",
    "for root, dirs, files in os.walk(root_path):\n",
    "    for filename in files:\n",
    "        image = process_image(os.path.join(root, filename))\n",
    "        cv2.imwrite(f'gan-sign_data_kaggle/B/{filename}', image)\n",
    "#         shutil.move(os.path.join(root, filename), 'gan-sign_data_kaggle/images/')"
   ]
  },
  {
   "cell_type": "code",
   "execution_count": null,
   "metadata": {},
   "outputs": [],
   "source": [
    "# splitting into train and test\n",
    "root = 'gan_signdata_kaggle/'\n",
    "srcA_path = 'gan_signdata_kaggle/A/'\n",
    "srcB_path = 'gan_signdata_kaggle/B/'\n",
    "\n",
    "trainA_path = 'gan_signdata_kaggle (copy)/trainA/'\n",
    "testA_path = 'gan_signdata_kaggle (copy)/testA/'\n",
    "\n",
    "\n",
    "trainB_path = 'gan_signdata_kaggle (copy)/trainB/'\n",
    "testB_path = 'gan_signdata_kaggle (copy)/testB/'"
   ]
  },
  {
   "cell_type": "code",
   "execution_count": null,
   "metadata": {},
   "outputs": [],
   "source": [
    "def split_data(src_path, train_path, test_path, split_ratio):\n",
    "    files = np.array(os.listdir(src_path))\n",
    "    np.random.shuffle(files)\n",
    "    split_index = int(split_ratio * len(files))\n",
    "    testA = files[0:split_index]\n",
    "    trainA = files[split_index:]\n",
    "    [shutil.move(os.path.join(src_path, path), os.path.join(train_path, path)) for path in trainA]\n",
    "    [shutil.move(os.path.join(src_path, path), os.path.join(test_path, path)) for path in testA]\n",
    "\n",
    "split_data(srcA_path, trainA_path, testA_path, 0.1)\n",
    "split_data(srcB_path, trainB_path, testB_path, 0.1)"
   ]
  },
  {
   "cell_type": "code",
   "execution_count": null,
   "metadata": {},
   "outputs": [],
   "source": [
    "os.rmdir(srcA_path)\n",
    "os.rmdir(srcB_path)\n",
    "os.rmdir('gan-sign_data_kaggle/images/')"
   ]
  },
  {
   "cell_type": "markdown",
   "metadata": {},
   "source": [
    "# Transforming images to CycleGAN input format\n",
    "CycleGAN requires images of same shape, so I decided to train it with 512x512 images with signature at the center and black (transparent) strips at top and bottom."
   ]
  },
  {
   "cell_type": "code",
   "execution_count": null,
   "metadata": {},
   "outputs": [],
   "source": [
    "# to find the maximum width and height present in the images\n",
    "from PIL import Image\n",
    "import os, sys\n",
    "size_images = dict()\n",
    "\n",
    "for dirpath, _, filenames in os.walk(trainA_path):\n",
    "    for path_image in filenames:\n",
    "        image = os.path.abspath(os.path.join(dirpath, path_image))\n",
    "        with Image.open(image) as img:\n",
    "            width, heigth = img.size\n",
    "            SIZE_IMAGES[path_image] = {'width': width, 'heigth': heigth}\n",
    "print(size_images)"
   ]
  },
  {
   "cell_type": "code",
   "execution_count": null,
   "metadata": {},
   "outputs": [],
   "source": [
    "import os\n",
    "from PIL import Image\n",
    "im_size = 512\n",
    "def make_square(image, min_size=512, fill_color=(255, 255, 255, 0)):\n",
    "    ''' Resize image as a square with signature in the center and black(transparent) strips at top and bottom. '''\n",
    "    x, y = image.size\n",
    "    size = max(min_size, x, y)\n",
    "    new_im = Image.new('RGBA', (size, size), fill_color)\n",
    "    new_im.paste(image, (int((size - x) / 2), int((size - y) / 2)))\n",
    "    new_im = new_im.resize((im_size, im_size))\n",
    "    return new_im\n",
    "\n",
    "def resize_images(path):\n",
    "    ''' Function to resize the images to the ip format for gans. '''\n",
    "    dirs = os.listdir(path)\n",
    "    for item in dirs:\n",
    "        if os.path.isfile(path+item):\n",
    "            image = Image.open(path+item)\n",
    "            image = make_square(image)\n",
    "            image.save(path+item)\n",
    "\n",
    "resize_images(trainA_path)\n",
    "resize_images(trainB_path)\n",
    "resize_images(testA_path)\n",
    "resize_images(testB_path)"
   ]
  }
 ],
 "metadata": {
  "kernelspec": {
   "display_name": "Python 3.10.6 64-bit",
   "language": "python",
   "name": "python3"
  },
  "language_info": {
   "codemirror_mode": {
    "name": "ipython",
    "version": 3
   },
   "file_extension": ".py",
   "mimetype": "text/x-python",
   "name": "python",
   "nbconvert_exporter": "python",
   "pygments_lexer": "ipython3",
   "version": "3.10.6"
  },
  "vscode": {
   "interpreter": {
    "hash": "369f2c481f4da34e4445cda3fffd2e751bd1c4d706f27375911949ba6bb62e1c"
   }
  }
 },
 "nbformat": 4,
 "nbformat_minor": 4
}
