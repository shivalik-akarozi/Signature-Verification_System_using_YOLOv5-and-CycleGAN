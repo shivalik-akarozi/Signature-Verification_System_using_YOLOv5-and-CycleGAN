{
 "cells": [
  {
   "cell_type": "code",
   "execution_count": 9,
   "metadata": {
    "executionInfo": {
     "elapsed": 6438,
     "status": "ok",
     "timestamp": 1621816735098,
     "user": {
      "displayName": "Amal Joseph",
      "photoUrl": "https://lh3.googleusercontent.com/a-/AOh14Gg4P6Rm4lcTSSEFGBRi7_jhunano_svtS4Vabi3rWU=s64",
      "userId": "02989210271660975792"
     },
     "user_tz": -330
    },
    "id": "z0MXeeEJ58b2"
   },
   "outputs": [],
   "source": [
    "%%capture\n",
    "import os, sys, random\n",
    "from glob import glob\n",
    "import matplotlib.pyplot as plt\n",
    "%matplotlib inline\n",
    "%pip install -qr 'requirements.txt'"
   ]
  },
  {
   "cell_type": "code",
   "execution_count": 33,
   "metadata": {
    "colab": {
     "base_uri": "https://localhost:8080/"
    },
    "executionInfo": {
     "elapsed": 519,
     "status": "ok",
     "timestamp": 1621816749518,
     "user": {
      "displayName": "Amal Joseph",
      "photoUrl": "https://lh3.googleusercontent.com/a-/AOh14Gg4P6Rm4lcTSSEFGBRi7_jhunano_svtS4Vabi3rWU=s64",
      "userId": "02989210271660975792"
     },
     "user_tz": -330
    },
    "id": "iTguUJ96VQt4",
    "outputId": "dc70a2c4-f649-40e0-bbcc-02e5b3b4a3fe"
   },
   "outputs": [
    {
     "name": "stderr",
     "output_type": "stream",
     "text": [
      "C:\\Python310\\python.exe: can't open file \"c:\\\\Capstone_AIML\\\\Signature-Verification_System_using_YOLOv5-and-CycleGAN\\\\Streamlit_App\\\\'\": [Errno 2] No such file or directory\n"
     ]
    }
   ],
   "source": [
    "# !./ngrok authtoken add_your_ngrok_token_for_persistent_connection\n",
    "!set STREAMLIT_SERVER_PORT=80\n",
    "from IPython import get_ipython\n",
    "get_ipython().system_raw('./ngrok http 8501 &')\n",
    "!curl -s http://localhost:4040/api/tunnels | py  \\\n",
    " ' import sys, json; print(\"Execute the next cell and the go to the following URL: \" +json.load(sys.stdin)[\"tunnels\"][0][\"public_url\"])'\n"
   ]
  },
  {
   "cell_type": "code",
   "execution_count": 26,
   "metadata": {
    "colab": {
     "base_uri": "https://localhost:8080/"
    },
    "id": "zBIQi2jNPiCA",
    "outputId": "0c493e66-adf0-4729-b241-fbca60d76822"
   },
   "outputs": [
    {
     "name": "stderr",
     "output_type": "stream",
     "text": [
      "'streamlit' is not recognized as an internal or external command,\n",
      "operable program or batch file.\n"
     ]
    }
   ],
   "source": [
    "!streamlit run ui.py"
   ]
  }
 ],
 "metadata": {
  "colab": {
   "authorship_tag": "ABX9TyOsnWG4Zuxh0QKY/Bp5FK9B",
   "collapsed_sections": [],
   "mount_file_id": "1SWM8TjyxEFlvxU98QlixJbNupiCc_vrI",
   "name": "Streamlit_NB.ipynb",
   "provenance": []
  },
  "kernelspec": {
   "display_name": "Python 3.10.6 64-bit",
   "language": "python",
   "name": "python3"
  },
  "language_info": {
   "codemirror_mode": {
    "name": "ipython",
    "version": 3
   },
   "file_extension": ".py",
   "mimetype": "text/x-python",
   "name": "python",
   "nbconvert_exporter": "python",
   "pygments_lexer": "ipython3",
   "version": "3.10.6"
  },
  "vscode": {
   "interpreter": {
    "hash": "369f2c481f4da34e4445cda3fffd2e751bd1c4d706f27375911949ba6bb62e1c"
   }
  }
 },
 "nbformat": 4,
 "nbformat_minor": 4
}
